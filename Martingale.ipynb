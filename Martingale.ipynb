{
 "cells": [
  {
   "cell_type": "code",
   "execution_count": 1,
   "id": "5000c442-1ca8-48bb-8b98-de15ea81c2a0",
   "metadata": {},
   "outputs": [],
   "source": [
    "import numpy as np\n",
    "from random import random as r\n",
    "from tqdm import tqdm"
   ]
  },
  {
   "cell_type": "code",
   "execution_count": 2,
   "id": "ac6e2f56-90d0-40de-9d57-e0cb6e02113e",
   "metadata": {},
   "outputs": [
    {
     "name": "stderr",
     "output_type": "stream",
     "text": [
      "100%|██████████████████████████████████████████████████████████████████████| 1000000/1000000 [04:44<00:00, 3519.69it/s]\n"
     ]
    },
    {
     "name": "stdout",
     "output_type": "stream",
     "text": [
      "When starting with $10000 on average you will have $10001.92731 left after 1000 bets (with a standard error of 2.0494563479660073)\n"
     ]
    }
   ],
   "source": [
    "starting_money = 10000 # set high just to see\n",
    "bet_size = 1 # set ridiculously low just to see\n",
    "num_simulations = 1000000\n",
    "num_bets = 1000\n",
    "\n",
    "ending_money = [] # how much money at the end you have left\n",
    "for _ in tqdm(range(num_simulations)): # tqdm is just a progress bar\n",
    "    \n",
    "    ### SIMULATE MARTINGALE BETTING WITH BANKRUPTCY ###\n",
    "    money = starting_money\n",
    "    bet = bet_size\n",
    "\n",
    "    for i in range(num_bets):\n",
    "        # don't allow betting more than you have\n",
    "        if bet > money:\n",
    "            bet = money\n",
    "\n",
    "        # r() generates random float between 0 and 1\n",
    "        if r() < .5:\n",
    "            money -= bet # lose the bet\n",
    "            bet *= 2 # double bet for next round\n",
    "        else:\n",
    "            money += bet\n",
    "            bet = 1 # reset bet back to 1\n",
    "            \n",
    "        # bankruptcy clause (you're done when you're out of money)\n",
    "        if money <= 0:\n",
    "            break\n",
    "        \n",
    "    ending_money.append(money)\n",
    "\n",
    "mean = np.mean(ending_money)\n",
    "standard_error = np.std(ending_money) / num_simulations**.5\n",
    "print(f'When starting with ${starting_money} on average you will have ${mean} left after {num_bets} bets (with a standard error of {standard_error})')"
   ]
  },
  {
   "cell_type": "code",
   "execution_count": null,
   "id": "d03934f8-4834-4e23-8c02-2ddd08c9f382",
   "metadata": {},
   "outputs": [],
   "source": []
  },
  {
   "cell_type": "markdown",
   "id": "ffbe24b5-4e73-4e8f-9583-b18bc23e3302",
   "metadata": {},
   "source": [
    "# What if you only stop after a win (after 1000 rounds?)\n",
    "meant to simulate how in \"real life\" no one would actually just arbitrarily leave after 1000 rounds, but more likely leave after a time limit (i.e. 1000 rounds) but ONLY after they've gotten a win to reclaim their losses"
   ]
  },
  {
   "cell_type": "code",
   "execution_count": 3,
   "id": "887cfdec-e2d4-4cc7-841f-f6c72abd0ff3",
   "metadata": {},
   "outputs": [
    {
     "name": "stderr",
     "output_type": "stream",
     "text": [
      "100%|██████████████████████████████████████████████████████████████████████| 1000000/1000000 [05:54<00:00, 2817.80it/s]\n"
     ]
    },
    {
     "name": "stdout",
     "output_type": "stream",
     "text": [
      "When starting with $10000 on average you will have $9999.599067 left after 1000 bets (with a standard error of 2.066929547105012)\n"
     ]
    }
   ],
   "source": [
    "starting_money = 10000 # set high just to see\n",
    "bet_size = 1 # set ridiculously low just to see\n",
    "num_simulations = 1000000\n",
    "num_bets = 1000\n",
    "\n",
    "ending_money = [] # how much money at the end you have left\n",
    "for _ in tqdm(range(num_simulations)): # tqdm is just a progress bar\n",
    "    \n",
    "    ### SIMULATE MARTINGALE BETTING WITH BANKRUPTCY ###\n",
    "    money = starting_money\n",
    "    bet = bet_size\n",
    "\n",
    "    rounds = 0\n",
    "    while money > 0:\n",
    "        # don't allow betting more than you have\n",
    "        if bet > money:\n",
    "            bet = money\n",
    "\n",
    "        # r() generates random float between 0 and 1\n",
    "        if r() < .5:\n",
    "            money -= bet # lose the bet\n",
    "            bet *= 2 # double bet for next round\n",
    "        else:\n",
    "            money += bet\n",
    "            bet = 1 # reset bet back to 1\n",
    "        \n",
    "        if rounds > num_bets and bet == 1: # only stop on win after 1000 rounds\n",
    "            break\n",
    "            \n",
    "        rounds += 1\n",
    "        \n",
    "    ending_money.append(money)\n",
    "\n",
    "mean = np.mean(ending_money)\n",
    "standard_error = np.std(ending_money) / num_simulations**.5\n",
    "print(f'When starting with ${starting_money} on average you will have ${mean} left after {num_bets} bets (with a standard error of {standard_error})')"
   ]
  },
  {
   "cell_type": "code",
   "execution_count": null,
   "id": "e0313c96-53e7-4a1b-bd12-444dd66ab676",
   "metadata": {},
   "outputs": [],
   "source": []
  }
 ],
 "metadata": {
  "kernelspec": {
   "display_name": "Python 3",
   "language": "python",
   "name": "python3"
  },
  "language_info": {
   "codemirror_mode": {
    "name": "ipython",
    "version": 3
   },
   "file_extension": ".py",
   "mimetype": "text/x-python",
   "name": "python",
   "nbconvert_exporter": "python",
   "pygments_lexer": "ipython3",
   "version": "3.8.5"
  }
 },
 "nbformat": 4,
 "nbformat_minor": 5
}
